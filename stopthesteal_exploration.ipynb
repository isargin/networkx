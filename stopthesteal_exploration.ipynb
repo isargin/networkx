{
 "cells": [
  {
   "cell_type": "markdown",
   "metadata": {},
   "source": [
    "Reading list: https://towardsdatascience.com/visualization-of-information-from-raw-twitter-data-part-1-99181ad19c"
   ]
  },
  {
   "cell_type": "markdown",
   "metadata": {},
   "source": [
    "Purpose: Saving a search daily using Postman for 'stopthesteal' to see what i can use networkx and other analytics methods for. This hashtag seems a good place to start collecting pro-Trump users and tweets"
   ]
  },
  {
   "cell_type": "markdown",
   "metadata": {},
   "source": [
    "Files:\n",
    "   \n",
    "    /git/networkx/stopthesteal11082020.json\n",
    "    /git/networkx/stopthesteal11102020.json\n"
   ]
  },
  {
   "cell_type": "code",
   "execution_count": 10,
   "metadata": {},
   "outputs": [
    {
     "ename": "TypeError",
     "evalue": "string indices must be integers",
     "output_type": "error",
     "traceback": [
      "\u001b[0;31m---------------------------------------------------------------------------\u001b[0m",
      "\u001b[0;31mTypeError\u001b[0m                                 Traceback (most recent call last)",
      "\u001b[0;32m<ipython-input-10-db2fc37de7a5>\u001b[0m in \u001b[0;36m<module>\u001b[0;34m\u001b[0m\n\u001b[1;32m      9\u001b[0m \u001b[0mtweets_data\u001b[0m \u001b[0;34m=\u001b[0m \u001b[0;34m'stopthesteal11082020.json'\u001b[0m\u001b[0;34m\u001b[0m\u001b[0;34m\u001b[0m\u001b[0m\n\u001b[1;32m     10\u001b[0m \u001b[0;31m# flatten tweets\u001b[0m\u001b[0;34m\u001b[0m\u001b[0;34m\u001b[0m\u001b[0;34m\u001b[0m\u001b[0m\n\u001b[0;32m---> 11\u001b[0;31m \u001b[0mtweets\u001b[0m \u001b[0;34m=\u001b[0m \u001b[0mflatten_tweets\u001b[0m\u001b[0;34m(\u001b[0m\u001b[0mtweets_data\u001b[0m\u001b[0;34m)\u001b[0m\u001b[0;34m\u001b[0m\u001b[0;34m\u001b[0m\u001b[0m\n\u001b[0m\u001b[1;32m     12\u001b[0m \u001b[0;34m\u001b[0m\u001b[0m\n\u001b[1;32m     13\u001b[0m \u001b[0;31m# select text\u001b[0m\u001b[0;34m\u001b[0m\u001b[0;34m\u001b[0m\u001b[0;34m\u001b[0m\u001b[0m\n",
      "\u001b[0;32m~/git/networkx/flatten_tweets.py\u001b[0m in \u001b[0;36mflatten_tweets\u001b[0;34m(tweets)\u001b[0m\n\u001b[1;32m     10\u001b[0m         \u001b[0;34m''' User info'''\u001b[0m\u001b[0;34m\u001b[0m\u001b[0;34m\u001b[0m\u001b[0m\n\u001b[1;32m     11\u001b[0m         \u001b[0;31m# Store the user screen name in 'user-screen_name'\u001b[0m\u001b[0;34m\u001b[0m\u001b[0;34m\u001b[0m\u001b[0;34m\u001b[0m\u001b[0m\n\u001b[0;32m---> 12\u001b[0;31m         \u001b[0mtweet_obj\u001b[0m\u001b[0;34m[\u001b[0m\u001b[0;34m'user-screen_name'\u001b[0m\u001b[0;34m]\u001b[0m \u001b[0;34m=\u001b[0m \u001b[0mtweet_obj\u001b[0m\u001b[0;34m[\u001b[0m\u001b[0;34m'user'\u001b[0m\u001b[0;34m]\u001b[0m\u001b[0;34m[\u001b[0m\u001b[0;34m'screen_name'\u001b[0m\u001b[0;34m]\u001b[0m\u001b[0;34m\u001b[0m\u001b[0;34m\u001b[0m\u001b[0m\n\u001b[0m\u001b[1;32m     13\u001b[0m \u001b[0;34m\u001b[0m\u001b[0m\n\u001b[1;32m     14\u001b[0m         \u001b[0;31m# Store the user location\u001b[0m\u001b[0;34m\u001b[0m\u001b[0;34m\u001b[0m\u001b[0;34m\u001b[0m\u001b[0m\n",
      "\u001b[0;31mTypeError\u001b[0m: string indices must be integers"
     ]
    }
   ],
   "source": [
    "#flatting the json\n",
    "#https://towardsdatascience.com/twitter-json-data-processing-3f353a5deac4\n",
    "#using the functinos flatten_tweets.py and select_text.py to flatten and create dataframe\n",
    "\n",
    "import pandas as pd\n",
    "from flatten_tweets import flatten_tweets\n",
    "from select_text import select_text\n",
    "\n",
    "tweets_data = 'stopthesteal11082020.json'\n",
    "# flatten tweets\n",
    "tweets = flatten_tweets(tweets_data)\n",
    "\n",
    "# select text\n",
    "tweets = select_text(tweets)\n",
    "columns = ['text', 'lang', 'user-location', 'place-country', \n",
    "           'place-country_code', 'location-coordinates', \n",
    "           'user-screen_name']\n",
    "\n",
    "# Create a DataFrame from `tweets`\n",
    "df_tweets = pd.DataFrame(tweets, columns=columns)# replaces NaNs by Nones\n",
    "df_tweets.where(pd.notnull(df_tweets), None, inplace=True)\n"
   ]
  },
  {
   "cell_type": "code",
   "execution_count": 5,
   "metadata": {},
   "outputs": [
    {
     "name": "stdout",
     "output_type": "stream",
     "text": [
      "                                                data  \\\n",
      "0  [{'id': '1325499432327114753', 'text': 'RT @es...   \n",
      "\n",
      "                                                meta  \n",
      "0  {'newest_id': '1325499432327114753', 'oldest_i...  \n"
     ]
    }
   ],
   "source": []
  },
  {
   "cell_type": "code",
   "execution_count": null,
   "metadata": {},
   "outputs": [],
   "source": [
    "note: check this out https://towardsdatascience.com/my-first-twitter-app-1115a327349e"
   ]
  }
 ],
 "metadata": {
  "kernelspec": {
   "display_name": "Python 3",
   "language": "python",
   "name": "python3"
  },
  "language_info": {
   "codemirror_mode": {
    "name": "ipython",
    "version": 3
   },
   "file_extension": ".py",
   "mimetype": "text/x-python",
   "name": "python",
   "nbconvert_exporter": "python",
   "pygments_lexer": "ipython3",
   "version": "3.7.7"
  }
 },
 "nbformat": 4,
 "nbformat_minor": 4
}
